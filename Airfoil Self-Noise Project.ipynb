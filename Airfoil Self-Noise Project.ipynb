{
 "cells": [
  {
   "cell_type": "markdown",
   "id": "135e4cfe",
   "metadata": {},
   "source": [
    "# Task to predict the Scaled Sound Pressure Level given certain features."
   ]
  },
  {
   "cell_type": "code",
   "execution_count": 8,
   "id": "757b873b",
   "metadata": {},
   "outputs": [],
   "source": [
    "df = pd.read_excel('airfoil.xlsx', names=['Frequency', 'Angle of Attack', 'Chord Length', 'Free-Steam Velocity', 'Suction side displacement thickness', 'Scaled sound pressure level'])"
   ]
  },
  {
   "cell_type": "code",
   "execution_count": 9,
   "id": "6b13736e",
   "metadata": {},
   "outputs": [
    {
     "data": {
      "text/html": [
       "<div>\n",
       "<style scoped>\n",
       "    .dataframe tbody tr th:only-of-type {\n",
       "        vertical-align: middle;\n",
       "    }\n",
       "\n",
       "    .dataframe tbody tr th {\n",
       "        vertical-align: top;\n",
       "    }\n",
       "\n",
       "    .dataframe thead th {\n",
       "        text-align: right;\n",
       "    }\n",
       "</style>\n",
       "<table border=\"1\" class=\"dataframe\">\n",
       "  <thead>\n",
       "    <tr style=\"text-align: right;\">\n",
       "      <th></th>\n",
       "      <th>Frequency</th>\n",
       "      <th>Angle of Attack</th>\n",
       "      <th>Chord Length</th>\n",
       "      <th>Free-Steam Velocity</th>\n",
       "      <th>Suction side displacement thickness</th>\n",
       "      <th>Scaled sound pressure level</th>\n",
       "    </tr>\n",
       "  </thead>\n",
       "  <tbody>\n",
       "    <tr>\n",
       "      <th>0</th>\n",
       "      <td>1000</td>\n",
       "      <td>0.0</td>\n",
       "      <td>0.3048</td>\n",
       "      <td>71.3</td>\n",
       "      <td>0.002663</td>\n",
       "      <td>125.201</td>\n",
       "    </tr>\n",
       "    <tr>\n",
       "      <th>1</th>\n",
       "      <td>1250</td>\n",
       "      <td>0.0</td>\n",
       "      <td>0.3048</td>\n",
       "      <td>71.3</td>\n",
       "      <td>0.002663</td>\n",
       "      <td>125.951</td>\n",
       "    </tr>\n",
       "    <tr>\n",
       "      <th>2</th>\n",
       "      <td>1600</td>\n",
       "      <td>0.0</td>\n",
       "      <td>0.3048</td>\n",
       "      <td>71.3</td>\n",
       "      <td>0.002663</td>\n",
       "      <td>127.591</td>\n",
       "    </tr>\n",
       "    <tr>\n",
       "      <th>3</th>\n",
       "      <td>2000</td>\n",
       "      <td>0.0</td>\n",
       "      <td>0.3048</td>\n",
       "      <td>71.3</td>\n",
       "      <td>0.002663</td>\n",
       "      <td>127.461</td>\n",
       "    </tr>\n",
       "    <tr>\n",
       "      <th>4</th>\n",
       "      <td>2500</td>\n",
       "      <td>0.0</td>\n",
       "      <td>0.3048</td>\n",
       "      <td>71.3</td>\n",
       "      <td>0.002663</td>\n",
       "      <td>125.571</td>\n",
       "    </tr>\n",
       "  </tbody>\n",
       "</table>\n",
       "</div>"
      ],
      "text/plain": [
       "   Frequency  Angle of Attack  Chord Length  Free-Steam Velocity  \\\n",
       "0       1000              0.0        0.3048                 71.3   \n",
       "1       1250              0.0        0.3048                 71.3   \n",
       "2       1600              0.0        0.3048                 71.3   \n",
       "3       2000              0.0        0.3048                 71.3   \n",
       "4       2500              0.0        0.3048                 71.3   \n",
       "\n",
       "   Suction side displacement thickness  Scaled sound pressure level  \n",
       "0                             0.002663                      125.201  \n",
       "1                             0.002663                      125.951  \n",
       "2                             0.002663                      127.591  \n",
       "3                             0.002663                      127.461  \n",
       "4                             0.002663                      125.571  "
      ]
     },
     "execution_count": 9,
     "metadata": {},
     "output_type": "execute_result"
    }
   ],
   "source": [
    "df.head()"
   ]
  },
  {
   "cell_type": "code",
   "execution_count": 11,
   "id": "f5dcb85a",
   "metadata": {},
   "outputs": [
    {
     "data": {
      "text/html": [
       "<div>\n",
       "<style scoped>\n",
       "    .dataframe tbody tr th:only-of-type {\n",
       "        vertical-align: middle;\n",
       "    }\n",
       "\n",
       "    .dataframe tbody tr th {\n",
       "        vertical-align: top;\n",
       "    }\n",
       "\n",
       "    .dataframe thead th {\n",
       "        text-align: right;\n",
       "    }\n",
       "</style>\n",
       "<table border=\"1\" class=\"dataframe\">\n",
       "  <thead>\n",
       "    <tr style=\"text-align: right;\">\n",
       "      <th></th>\n",
       "      <th>Frequency</th>\n",
       "      <th>Angle of Attack</th>\n",
       "      <th>Chord Length</th>\n",
       "      <th>Free-Steam Velocity</th>\n",
       "      <th>Suction side displacement thickness</th>\n",
       "      <th>Scaled sound pressure level</th>\n",
       "    </tr>\n",
       "  </thead>\n",
       "  <tbody>\n",
       "    <tr>\n",
       "      <th>count</th>\n",
       "      <td>1502.000000</td>\n",
       "      <td>1502.000000</td>\n",
       "      <td>1502.000000</td>\n",
       "      <td>1502.000000</td>\n",
       "      <td>1502.000000</td>\n",
       "      <td>1502.000000</td>\n",
       "    </tr>\n",
       "    <tr>\n",
       "      <th>mean</th>\n",
       "      <td>2887.769640</td>\n",
       "      <td>6.786818</td>\n",
       "      <td>0.136436</td>\n",
       "      <td>50.847137</td>\n",
       "      <td>0.011146</td>\n",
       "      <td>124.835034</td>\n",
       "    </tr>\n",
       "    <tr>\n",
       "      <th>std</th>\n",
       "      <td>3153.162983</td>\n",
       "      <td>5.917509</td>\n",
       "      <td>0.093471</td>\n",
       "      <td>15.569029</td>\n",
       "      <td>0.013153</td>\n",
       "      <td>6.900864</td>\n",
       "    </tr>\n",
       "    <tr>\n",
       "      <th>min</th>\n",
       "      <td>200.000000</td>\n",
       "      <td>0.000000</td>\n",
       "      <td>0.025400</td>\n",
       "      <td>31.700000</td>\n",
       "      <td>0.000401</td>\n",
       "      <td>103.380000</td>\n",
       "    </tr>\n",
       "    <tr>\n",
       "      <th>25%</th>\n",
       "      <td>800.000000</td>\n",
       "      <td>2.000000</td>\n",
       "      <td>0.050800</td>\n",
       "      <td>39.600000</td>\n",
       "      <td>0.002535</td>\n",
       "      <td>120.190000</td>\n",
       "    </tr>\n",
       "    <tr>\n",
       "      <th>50%</th>\n",
       "      <td>1600.000000</td>\n",
       "      <td>5.400000</td>\n",
       "      <td>0.101600</td>\n",
       "      <td>39.600000</td>\n",
       "      <td>0.004957</td>\n",
       "      <td>125.719000</td>\n",
       "    </tr>\n",
       "    <tr>\n",
       "      <th>75%</th>\n",
       "      <td>4000.000000</td>\n",
       "      <td>9.900000</td>\n",
       "      <td>0.228600</td>\n",
       "      <td>71.300000</td>\n",
       "      <td>0.015840</td>\n",
       "      <td>129.997750</td>\n",
       "    </tr>\n",
       "    <tr>\n",
       "      <th>max</th>\n",
       "      <td>20000.000000</td>\n",
       "      <td>22.200000</td>\n",
       "      <td>0.304800</td>\n",
       "      <td>71.300000</td>\n",
       "      <td>0.058411</td>\n",
       "      <td>140.987000</td>\n",
       "    </tr>\n",
       "  </tbody>\n",
       "</table>\n",
       "</div>"
      ],
      "text/plain": [
       "          Frequency  Angle of Attack  Chord Length  Free-Steam Velocity  \\\n",
       "count   1502.000000      1502.000000   1502.000000          1502.000000   \n",
       "mean    2887.769640         6.786818      0.136436            50.847137   \n",
       "std     3153.162983         5.917509      0.093471            15.569029   \n",
       "min      200.000000         0.000000      0.025400            31.700000   \n",
       "25%      800.000000         2.000000      0.050800            39.600000   \n",
       "50%     1600.000000         5.400000      0.101600            39.600000   \n",
       "75%     4000.000000         9.900000      0.228600            71.300000   \n",
       "max    20000.000000        22.200000      0.304800            71.300000   \n",
       "\n",
       "       Suction side displacement thickness  Scaled sound pressure level  \n",
       "count                          1502.000000                  1502.000000  \n",
       "mean                              0.011146                   124.835034  \n",
       "std                               0.013153                     6.900864  \n",
       "min                               0.000401                   103.380000  \n",
       "25%                               0.002535                   120.190000  \n",
       "50%                               0.004957                   125.719000  \n",
       "75%                               0.015840                   129.997750  \n",
       "max                               0.058411                   140.987000  "
      ]
     },
     "execution_count": 11,
     "metadata": {},
     "output_type": "execute_result"
    }
   ],
   "source": [
    "df.describe()"
   ]
  },
  {
   "cell_type": "code",
   "execution_count": 16,
   "id": "843e52d9",
   "metadata": {},
   "outputs": [
    {
     "data": {
      "text/plain": [
       "Frequency                             -0.390686\n",
       "Suction side displacement thickness   -0.312632\n",
       "Chord Length                          -0.236657\n",
       "Angle of Attack                       -0.156027\n",
       "Free-Steam Velocity                    0.125003\n",
       "Scaled sound pressure level            1.000000\n",
       "Name: Scaled sound pressure level, dtype: float64"
      ]
     },
     "execution_count": 16,
     "metadata": {},
     "output_type": "execute_result"
    }
   ],
   "source": [
    "df.corr()['Scaled sound pressure level'].sort_values()"
   ]
  },
  {
   "cell_type": "code",
   "execution_count": 20,
   "id": "5a389111",
   "metadata": {},
   "outputs": [
    {
     "data": {
      "text/plain": [
       "<AxesSubplot:>"
      ]
     },
     "execution_count": 20,
     "metadata": {},
     "output_type": "execute_result"
    },
    {
     "data": {
      "image/png": "[encoded data removed]",
      "text/plain": [
       "<Figure size 850x510 with 2 Axes>"
      ]
     },
     "metadata": {
      "needs_background": "light"
     },
     "output_type": "display_data"
    }
   ],
   "source": [
    "plt.figure(figsize=(10,6), dpi=85)\n",
    "sns.heatmap(df.corr(), annot=True, cmap='rocket')"
   ]
  },
  {
   "cell_type": "code",
   "execution_count": 26,
   "id": "0c2861c7",
   "metadata": {},
   "outputs": [],
   "source": [
    "X = df.drop(['Scaled sound pressure level'], axis=1)\n",
    "y = df['Scaled sound pressure level']"
   ]
  },
  {
   "cell_type": "code",
   "execution_count": 29,
   "id": "83397373",
   "metadata": {},
   "outputs": [],
   "source": [
    "from sklearn.model_selection import train_test_split\n",
    "from sklearn.preprocessing import StandardScaler\n"
   ]
  },
  {
   "cell_type": "code",
   "execution_count": 30,
   "id": "2e0246ab",
   "metadata": {},
   "outputs": [],
   "source": [
    "X_train, X_test, y_train, y_test = train_test_split(X, y, test_size=0.3, random_state=101)"
   ]
  },
  {
   "cell_type": "code",
   "execution_count": 31,
   "id": "8ee8d730",
   "metadata": {},
   "outputs": [],
   "source": [
    "scaler = StandardScaler()"
   ]
  },
  {
   "cell_type": "code",
   "execution_count": 32,
   "id": "dcb6014a",
   "metadata": {},
   "outputs": [],
   "source": [
    "scaled_X_train = scaler.fit_transform(X_train)\n",
    "scaled_X_test = scaler.transform(X_test)"
   ]
  },
  {
   "cell_type": "code",
   "execution_count": 33,
   "id": "624979e0",
   "metadata": {},
   "outputs": [],
   "source": [
    "from sklearn.metrics import mean_absolute_error, mean_squared_error"
   ]
  },
  {
   "cell_type": "code",
   "execution_count": 34,
   "id": "71350478",
   "metadata": {},
   "outputs": [],
   "source": [
    "def run_model(model,X_train,y_train,X_test,y_test):\n",
    "    \n",
    "    \n",
    "    model.fit(X_train,y_train)\n",
    "    \n",
    "    preds = model.predict(X_test)\n",
    "    \n",
    "    rmse = np.sqrt(mean_squared_error(y_test,preds))\n",
    "    mae =  mean_absolute_error(y_test, preds)\n",
    "    print(f'RMSE : {rmse}')\n",
    "    print(f'MAE : {mae}')\n",
    "    "
   ]
  },
  {
   "cell_type": "code",
   "execution_count": 35,
   "id": "d9eda3cb",
   "metadata": {},
   "outputs": [],
   "source": [
    "from sklearn.neighbors import KNeighborsRegressor\n",
    "from sklearn.svm import SVR\n",
    "from sklearn.tree import DecisionTreeRegressor\n",
    "from sklearn.ensemble import RandomForestRegressor, AdaBoostRegressor, GradientBoostingRegressor"
   ]
  },
  {
   "cell_type": "markdown",
   "id": "d453fd7e",
   "metadata": {},
   "source": [
    "## KNN"
   ]
  },
  {
   "cell_type": "code",
   "execution_count": 36,
   "id": "8740747c",
   "metadata": {},
   "outputs": [
    {
     "name": "stdout",
     "output_type": "stream",
     "text": [
      "RMSE : 3.474402842161954\n",
      "MAE : 2.5242514412416845\n"
     ]
    }
   ],
   "source": [
    "model = KNeighborsRegressor()\n",
    "run_model(model, scaled_X_train, y_train, scaled_X_test, y_test)"
   ]
  },
  {
   "cell_type": "markdown",
   "id": "e7bb206e",
   "metadata": {},
   "source": [
    "## SVM"
   ]
  },
  {
   "cell_type": "code",
   "execution_count": 37,
   "id": "d3187202",
   "metadata": {},
   "outputs": [
    {
     "name": "stdout",
     "output_type": "stream",
     "text": [
      "RMSE : 3.74403526040039\n",
      "MAE : 2.832966667830428\n"
     ]
    }
   ],
   "source": [
    "model = SVR()\n",
    "run_model(model, scaled_X_train, y_train, scaled_X_test, y_test)"
   ]
  },
  {
   "cell_type": "markdown",
   "id": "033a41d3",
   "metadata": {},
   "source": [
    "## Decision Tree"
   ]
  },
  {
   "cell_type": "code",
   "execution_count": 38,
   "id": "e1e198fc",
   "metadata": {},
   "outputs": [
    {
     "name": "stdout",
     "output_type": "stream",
     "text": [
      "RMSE : 2.4481871101665837\n",
      "MAE : 1.7743658536585365\n"
     ]
    }
   ],
   "source": [
    "model = DecisionTreeRegressor()\n",
    "run_model(model,X_train,y_train,X_test,y_test)"
   ]
  },
  {
   "cell_type": "markdown",
   "id": "4cce3761",
   "metadata": {},
   "source": [
    "## Random Forest"
   ]
  },
  {
   "cell_type": "code",
   "execution_count": 39,
   "id": "84b9cae2",
   "metadata": {},
   "outputs": [
    {
     "name": "stdout",
     "output_type": "stream",
     "text": [
      "RMSE : 1.9155974714976483\n",
      "MAE : 1.3464268514412416\n"
     ]
    }
   ],
   "source": [
    "model = RandomForestRegressor()\n",
    "run_model(model,X_train,y_train,X_test,y_test)"
   ]
  },
  {
   "cell_type": "markdown",
   "id": "03670cb4",
   "metadata": {},
   "source": [
    "## AdaBoost"
   ]
  },
  {
   "cell_type": "code",
   "execution_count": 43,
   "id": "5fa31bba",
   "metadata": {},
   "outputs": [
    {
     "name": "stdout",
     "output_type": "stream",
     "text": [
      "RMSE : 3.873523630124186\n",
      "MAE : 3.1811364886861075\n"
     ]
    }
   ],
   "source": [
    "model = AdaBoostRegressor()\n",
    "run_model(model,X_train,y_train,X_test,y_test)"
   ]
  },
  {
   "cell_type": "markdown",
   "id": "9b859f27",
   "metadata": {},
   "source": [
    "## GradBoost"
   ]
  },
  {
   "cell_type": "code",
   "execution_count": 44,
   "id": "9452b067",
   "metadata": {},
   "outputs": [
    {
     "name": "stdout",
     "output_type": "stream",
     "text": [
      "RMSE : 2.7412933569116635\n",
      "MAE : 2.060769219464761\n"
     ]
    }
   ],
   "source": [
    "model = GradientBoostingRegressor()\n",
    "run_model(model,X_train,y_train,X_test,y_test)"
   ]
  },
  {
   "cell_type": "markdown",
   "id": "0cbdecb1",
   "metadata": {},
   "source": [
    "Since the best performing algorithm on our dataset is RandomForestRegressor, we can perfrom GridSearch on it to get even better results for our model"
   ]
  },
  {
   "cell_type": "code",
   "execution_count": 45,
   "id": "e3372ede",
   "metadata": {},
   "outputs": [],
   "source": [
    "from sklearn.model_selection import GridSearchCV"
   ]
  },
  {
   "cell_type": "code",
   "execution_count": 79,
   "id": "cfb9945a",
   "metadata": {},
   "outputs": [],
   "source": [
    "param_grid = {'n_estimators' : [50, 100, 150, 200],\n",
    "              'bootstrap' : [True, False],\n",
    "              'oob_score' : [True, False]\n",
    "             }"
   ]
  },
  {
   "cell_type": "code",
   "execution_count": 80,
   "id": "3716fc89",
   "metadata": {},
   "outputs": [],
   "source": [
    "rfr = RandomForestRegressor()\n",
    "rfr_grid = GridSearchCV(rfr, param_grid)"
   ]
  },
  {
   "cell_type": "code",
   "execution_count": 82,
   "id": "631f1dae",
   "metadata": {},
   "outputs": [
    {
     "name": "stderr",
     "output_type": "stream",
     "text": [
      "C:\\Users\\user\\anaconda3\\lib\\site-packages\\sklearn\\model_selection\\_validation.py:372: FitFailedWarning: \n",
      "20 fits failed out of a total of 80.\n",
      "The score on these train-test partitions for these parameters will be set to nan.\n",
      "If these failures are not expected, you can try to debug them by setting error_score='raise'.\n",
      "\n",
      "Below are more details about the failures:\n",
      "--------------------------------------------------------------------------------\n",
      "20 fits failed with the following error:\n",
      "Traceback (most recent call last):\n",
      "  File \"C:\\Users\\user\\anaconda3\\lib\\site-packages\\sklearn\\model_selection\\_validation.py\", line 680, in _fit_and_score\n",
      "    estimator.fit(X_train, y_train, **fit_params)\n",
      "  File \"C:\\Users\\user\\anaconda3\\lib\\site-packages\\sklearn\\ensemble\\_forest.py\", line 411, in fit\n",
      "    raise ValueError(\"Out of bag estimation only available if bootstrap=True\")\n",
      "ValueError: Out of bag estimation only available if bootstrap=True\n",
      "\n",
      "  warnings.warn(some_fits_failed_message, FitFailedWarning)\n",
      "C:\\Users\\user\\anaconda3\\lib\\site-packages\\sklearn\\model_selection\\_search.py:969: UserWarning: One or more of the test scores are non-finite: [0.91102931 0.9131209  0.91400552 0.91319392 0.91327803 0.91318379\n",
      " 0.91409389 0.91345667        nan 0.83520386        nan 0.834574\n",
      "        nan 0.83467006        nan 0.83502586]\n",
      "  warnings.warn(\n"
     ]
    },
    {
     "data": {
      "text/plain": [
       "GridSearchCV(estimator=RandomForestRegressor(),\n",
       "             param_grid={'bootstrap': [True, False],\n",
       "                         'n_estimators': [50, 100, 150, 200],\n",
       "                         'oob_score': [True, False]})"
      ]
     },
     "execution_count": 82,
     "metadata": {},
     "output_type": "execute_result"
    }
   ],
   "source": [
    "rfr_grid.fit(X_train, y_train)"
   ]
  },
  {
   "cell_type": "code",
   "execution_count": 83,
   "id": "8c8f42b0",
   "metadata": {},
   "outputs": [
    {
     "data": {
      "text/plain": [
       "{'bootstrap': True, 'n_estimators': 200, 'oob_score': True}"
      ]
     },
     "execution_count": 83,
     "metadata": {},
     "output_type": "execute_result"
    }
   ],
   "source": [
    "rfr_grid.best_params_"
   ]
  },
  {
   "cell_type": "code",
   "execution_count": 84,
   "id": "7d85ce34",
   "metadata": {},
   "outputs": [],
   "source": [
    "grid_preds = rfr_grid.predict(X_test)"
   ]
  },
  {
   "cell_type": "code",
   "execution_count": 85,
   "id": "8150d249",
   "metadata": {},
   "outputs": [],
   "source": [
    "rmse = np.sqrt(mean_squared_error(y_test,grid_preds))\n",
    "mae =  mean_absolute_error(y_test, grid_preds)"
   ]
  },
  {
   "cell_type": "code",
   "execution_count": 86,
   "id": "10b63404",
   "metadata": {},
   "outputs": [
    {
     "data": {
      "text/plain": [
       "(1.9035880984811024, 1.325349423503313)"
      ]
     },
     "execution_count": 86,
     "metadata": {},
     "output_type": "execute_result"
    }
   ],
   "source": [
    "rmse, mae"
   ]
  },
  {
   "cell_type": "markdown",
   "id": "d2c877b3",
   "metadata": {},
   "source": [
    "## Creating Final Model"
   ]
  },
  {
   "cell_type": "code",
   "execution_count": 87,
   "id": "d0783b7a",
   "metadata": {},
   "outputs": [
    {
     "data": {
      "text/plain": [
       "RandomForestRegressor(n_estimators=150)"
      ]
     },
     "execution_count": 87,
     "metadata": {},
     "output_type": "execute_result"
    }
   ],
   "source": [
    "final_model = RandomForestRegressor(n_estimators=150)\n",
    "final_model.fit(X,y)"
   ]
  },
  {
   "cell_type": "markdown",
   "id": "f9d01106",
   "metadata": {},
   "source": [
    "## Saving Final Model"
   ]
  },
  {
   "cell_type": "code",
   "execution_count": 88,
   "id": "71710cd4",
   "metadata": {},
   "outputs": [],
   "source": [
    "import joblib"
   ]
  },
  {
   "cell_type": "code",
   "execution_count": 89,
   "id": "816529df",
   "metadata": {},
   "outputs": [
    {
     "data": {
      "text/plain": [
       "['final_model.pkl']"
      ]
     },
     "execution_count": 89,
     "metadata": {},
     "output_type": "execute_result"
    }
   ],
   "source": [
    "joblib.dump(final_model, 'final_model.pkl')"
   ]
  },
  {
   "cell_type": "code",
   "execution_count": 90,
   "id": "6f2ad18b",
   "metadata": {},
   "outputs": [
    {
     "data": {
      "text/plain": [
       "['column_names.pkl']"
      ]
     },
     "execution_count": 90,
     "metadata": {},
     "output_type": "execute_result"
    }
   ],
   "source": [
    "joblib.dump(list(X.columns),'column_names.pkl')"
   ]
  },
  {
   "cell_type": "markdown",
   "id": "1522a6d6",
   "metadata": {},
   "source": [
    "## Loading Final Model"
   ]
  },
  {
   "cell_type": "code",
   "execution_count": 91,
   "id": "4b96b715",
   "metadata": {},
   "outputs": [],
   "source": [
    "loaded_model = joblib.load('final_model.pkl')"
   ]
  },
  {
   "cell_type": "code",
   "execution_count": 92,
   "id": "068a168a",
   "metadata": {},
   "outputs": [
    {
     "data": {
      "text/plain": [
       "Frequency                              1000.000000\n",
       "Angle of Attack                           0.000000\n",
       "Chord Length                              0.304800\n",
       "Free-Steam Velocity                      39.600000\n",
       "Suction side displacement thickness       0.003101\n",
       "Scaled sound pressure level             127.899000\n",
       "Name: 35, dtype: float64"
      ]
     },
     "execution_count": 92,
     "metadata": {},
     "output_type": "execute_result"
    }
   ],
   "source": [
    "df.iloc[35]"
   ]
  },
  {
   "cell_type": "code",
   "execution_count": 93,
   "id": "2d0e559b",
   "metadata": {},
   "outputs": [],
   "source": [
    "col_names = joblib.load('column_names.pkl')"
   ]
  },
  {
   "cell_type": "code",
   "execution_count": 94,
   "id": "76937053",
   "metadata": {},
   "outputs": [
    {
     "data": {
      "text/plain": [
       "['Frequency',\n",
       " 'Angle of Attack',\n",
       " 'Chord Length',\n",
       " 'Free-Steam Velocity',\n",
       " 'Suction side displacement thickness']"
      ]
     },
     "execution_count": 94,
     "metadata": {},
     "output_type": "execute_result"
    }
   ],
   "source": [
    "col_names"
   ]
  },
  {
   "cell_type": "code",
   "execution_count": 95,
   "id": "ca16faf7",
   "metadata": {},
   "outputs": [
    {
     "name": "stderr",
     "output_type": "stream",
     "text": [
      "C:\\Users\\user\\anaconda3\\lib\\site-packages\\sklearn\\base.py:450: UserWarning: X does not have valid feature names, but RandomForestRegressor was fitted with feature names\n",
      "  warnings.warn(\n"
     ]
    },
    {
     "data": {
      "text/plain": [
       "array([127.82078667])"
      ]
     },
     "execution_count": 95,
     "metadata": {},
     "output_type": "execute_result"
    }
   ],
   "source": [
    "loaded_model.predict([[1000, 0.0, 0.3048, 39.6, 0.003101]])"
   ]
  },
  {
   "cell_type": "code",
   "execution_count": 97,
   "id": "53d15c1c",
   "metadata": {},
   "outputs": [],
   "source": [
    "df.to_csv(\"Final_Airfoil_Model.csv\", index=False)"
   ]
  },
  {
   "cell_type": "code",
   "execution_count": null,
   "id": "ca2ccfaa",
   "metadata": {},
   "outputs": [],
   "source": []
  }
 ],
 "metadata": {
  "kernelspec": {
   "display_name": "Python 3 (ipykernel)",
   "language": "python",
   "name": "python3"
  },
  "language_info": {
   "codemirror_mode": {
    "name": "ipython",
    "version": 3
   },
   "file_extension": ".py",
   "mimetype": "text/x-python",
   "name": "python",
   "nbconvert_exporter": "python",
   "pygments_lexer": "ipython3",
   "version": "3.11.3"
  }
 },
 "nbformat": 4,
 "nbformat_minor": 5
}
